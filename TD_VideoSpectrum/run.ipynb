{
 "cells": [
  {
   "cell_type": "markdown",
   "source": [
    "# Generative parameters"
   ],
   "metadata": {
    "collapsed": false
   }
  },
  {
   "cell_type": "code",
   "execution_count": 4,
   "outputs": [
    {
     "ename": "ModuleNotFoundError",
     "evalue": "No module named 'Spectrum'",
     "output_type": "error",
     "traceback": [
      "\u001B[1;31m---------------------------------------------------------------------------\u001B[0m",
      "\u001B[1;31mModuleNotFoundError\u001B[0m                       Traceback (most recent call last)",
      "Cell \u001B[1;32mIn[4], line 10\u001B[0m\n\u001B[0;32m      6\u001B[0m \u001B[38;5;28;01mimport\u001B[39;00m \u001B[38;5;21;01mnumpy\u001B[39;00m \u001B[38;5;28;01mas\u001B[39;00m \u001B[38;5;21;01mnp\u001B[39;00m\n\u001B[0;32m      8\u001B[0m checkpoint \u001B[38;5;241m=\u001B[39m torch\u001B[38;5;241m.\u001B[39mload(\u001B[38;5;124m'\u001B[39m\u001B[38;5;124mgenerative_approach.model\u001B[39m\u001B[38;5;124m'\u001B[39m)\n\u001B[1;32m---> 10\u001B[0m \u001B[38;5;28;01mfrom\u001B[39;00m \u001B[38;5;21;01mSpectrum\u001B[39;00m \u001B[38;5;28;01mimport\u001B[39;00m SpectrumEncoder\n\u001B[0;32m     11\u001B[0m model \u001B[38;5;241m=\u001B[39m SpectrumEncoder()\n\u001B[0;32m     13\u001B[0m model\u001B[38;5;241m.\u001B[39mload_state_dict(checkpoint)\n",
      "\u001B[1;31mModuleNotFoundError\u001B[0m: No module named 'Spectrum'"
     ]
    }
   ],
   "source": [
    "import os\n",
    "os.chdir(\"D:/YandexDisk/Collab/Projects/2023-03_Spectrum/Projects/GenerativeParameters/generative_approach/\")\n",
    "\n",
    "import torch\n",
    "import torch.nn as nn\n",
    "import numpy as np\n",
    "\n",
    "checkpoint = torch.load('generative_approach.model')\n",
    "\n",
    "class SpectrumEncoder(nn.Module):\n",
    "    def __init__(self):\n",
    "        super().__init__()\n",
    "        self.hidden1 = nn.Linear(64, 128)\n",
    "        self.act1 = nn.ReLU()\n",
    "        self.hidden2 = nn.Linear(128, 96)\n",
    "        self.act2 = nn.ReLU()\n",
    "        self.output = nn.Linear(96, 4)\n",
    "        self.act_output = nn.Sigmoid()\n",
    "\n",
    "    def forward(self, x):\n",
    "        x = self.act1(self.hidden1(x))\n",
    "        x = self.act2(self.hidden2(x))\n",
    "        x = self.act_output(self.output(x))\n",
    "        return x\n",
    "\n",
    "model = SpectrumEncoder()\n",
    "\n",
    "model.load_state_dict(checkpoint)\n",
    "model.eval()\n",
    "\n",
    "for i in range(100):\n",
    "    v = np.random.randn(1, 64)\n",
    "    print(v.shape)\n",
    "    value = torch.tensor(v, dtype=torch.float32)\n",
    "    res = model.forward(value)\n",
    "    print('%s' % (res[0].tolist()))"
   ],
   "metadata": {
    "collapsed": false,
    "ExecuteTime": {
     "start_time": "2023-08-02T07:56:14.680921Z",
     "end_time": "2023-08-02T07:56:15.224923Z"
    }
   }
  },
  {
   "cell_type": "markdown",
   "source": [],
   "metadata": {
    "collapsed": false
   }
  }
 ],
 "metadata": {
  "accelerator": "GPU",
  "colab": {
   "collapsed_sections": [],
   "name": "inference_playground (5).ipynb",
   "provenance": []
  },
  "kernelspec": {
   "display_name": "Python 3",
   "language": "python",
   "name": "python3"
  },
  "language_info": {
   "codemirror_mode": {
    "name": "ipython",
    "version": 3
   },
   "file_extension": ".py",
   "mimetype": "text/x-python",
   "name": "python",
   "nbconvert_exporter": "python",
   "pygments_lexer": "ipython3",
   "version": "3.8.3"
  }
 },
 "nbformat": 4,
 "nbformat_minor": 1
}
